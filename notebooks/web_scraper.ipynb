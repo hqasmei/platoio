{
  "nbformat": 4,
  "nbformat_minor": 0,
  "metadata": {
    "colab": {
      "provenance": []
    },
    "kernelspec": {
      "name": "python3",
      "display_name": "Python 3"
    },
    "language_info": {
      "name": "python"
    }
  },
  "cells": [
    {
      "cell_type": "code",
      "execution_count": 1,
      "metadata": {
        "id": "vOkn4qSeJ5OC"
      },
      "outputs": [],
      "source": [
        "import requests\n",
        "from bs4 import BeautifulSoup"
      ]
    },
    {
      "cell_type": "code",
      "source": [
        "def getPage(soup,page,url,query):\n",
        "    output = []\n",
        "    if(page!=1):\n",
        "        url = url+query+str(page)\n",
        "  \n",
        "    results = soup.find_all('div', attrs={'style': 'display: flex;justify-content: space-between'})\n",
        "    \n",
        "    for result in results:\n",
        "        quote = result.text.strip()\n",
        "        output.append(quote)\n",
        "    return output"
      ],
      "metadata": {
        "id": "iHo_QN2vKMTD"
      },
      "execution_count": 2,
      "outputs": []
    },
    {
      "cell_type": "code",
      "source": [
        "def getQuotes(url,query):\n",
        "    data      = []\n",
        "    page      = requests.get(url)\n",
        "    soup      = BeautifulSoup(page.content, \"html.parser\")\n",
        "    pages     = list(soup.find_all('li', class_={'page-item'}))\n",
        "    num_pages = int(pages[len(pages) - 2].text.strip())\n",
        "    \n",
        "    for page in range(1,num_pages):\n",
        "        items = getPage(soup,page,url,query)\n",
        "        for item in items:\n",
        "            data.append(item)\n",
        "    return data"
      ],
      "metadata": {
        "id": "yIqx2WCeKOlj"
      },
      "execution_count": 3,
      "outputs": []
    },
    {
      "cell_type": "code",
      "source": [
        "url    = \"https://www.brainyquote.com/search_results?q=plato\"\n",
        "query  = \"&pg=\"\n",
        "quotes = getQuotes(url,query)"
      ],
      "metadata": {
        "id": "Arig7QsLKQ6Z"
      },
      "execution_count": 4,
      "outputs": []
    },
    {
      "cell_type": "code",
      "source": [
        "# quotes"
      ],
      "metadata": {
        "id": "Qs7960dJKUvn"
      },
      "execution_count": 6,
      "outputs": []
    },
    {
      "cell_type": "code",
      "source": [
        "%pip install redis"
      ],
      "metadata": {
        "colab": {
          "base_uri": "https://localhost:8080/"
        },
        "id": "BQmQVIt8KlRJ",
        "outputId": "276b91f8-b79a-430e-e5aa-3aa94af17409"
      },
      "execution_count": 8,
      "outputs": [
        {
          "output_type": "stream",
          "name": "stdout",
          "text": [
            "Looking in indexes: https://pypi.org/simple, https://us-python.pkg.dev/colab-wheels/public/simple/\n",
            "Collecting redis\n",
            "  Downloading redis-4.5.1-py3-none-any.whl (238 kB)\n",
            "\u001b[2K     \u001b[90m━━━━━━━━━━━━━━━━━━━━━━━━━━━━━━━━━━━━━━━\u001b[0m \u001b[32m238.5/238.5 KB\u001b[0m \u001b[31m6.2 MB/s\u001b[0m eta \u001b[36m0:00:00\u001b[0m\n",
            "\u001b[?25hRequirement already satisfied: async-timeout>=4.0.2 in /usr/local/lib/python3.8/dist-packages (from redis) (4.0.2)\n",
            "Installing collected packages: redis\n",
            "Successfully installed redis-4.5.1\n"
          ]
        }
      ]
    },
    {
      "cell_type": "code",
      "source": [
        "import redis\n",
        "\n",
        "r = redis.Redis(\n",
        "  host= 'usw1-merry-goshawk-33932.upstash.io',\n",
        "  port= '33932',\n",
        "  password= 'a51e9882616e464e99622ac3f04dfb76'\n",
        ")\n",
        "\n",
        "\n",
        "for quote in quotes:\n",
        "    r.sadd('plato', quote) "
      ],
      "metadata": {
        "id": "eLGOJWn6KWxv"
      },
      "execution_count": 9,
      "outputs": []
    }
  ]
}