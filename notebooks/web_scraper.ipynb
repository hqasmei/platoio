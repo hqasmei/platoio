{
  "cells": [
    {
      "cell_type": "code",
      "execution_count": null,
      "metadata": {
        "id": "vOkn4qSeJ5OC"
      },
      "outputs": [
        {
          "ename": "",
          "evalue": "",
          "output_type": "error",
          "traceback": [
            "\u001b[1;31mFailed to start the Kernel. \n",
            "\u001b[1;31mJupyter server crashed. Unable to connect. \n",
            "\u001b[1;31mError code from Jupyter: 1\n",
            "\u001b[1;31musage: jupyter.py [-h] [--version] [--config-dir] [--data-dir] [--runtime-dir]\n",
            "\u001b[1;31m                  [--paths] [--json] [--debug]\n",
            "\u001b[1;31m                  [subcommand]\n",
            "\u001b[1;31m\n",
            "\u001b[1;31mJupyter: Interactive Computing\n",
            "\u001b[1;31m\n",
            "\u001b[1;31mpositional arguments:\n",
            "\u001b[1;31m  subcommand     the subcommand to launch\n",
            "\u001b[1;31m\n",
            "\u001b[1;31moptions:\n",
            "\u001b[1;31m  -h, --help     show this help message and exit\n",
            "\u001b[1;31m  --version      show the versions of core jupyter packages and exit\n",
            "\u001b[1;31m  --config-dir   show Jupyter config dir\n",
            "\u001b[1;31m  --data-dir     show Jupyter data dir\n",
            "\u001b[1;31m  --runtime-dir  show Jupyter runtime dir\n",
            "\u001b[1;31m  --paths        show all Jupyter paths. Add --json for machine-readable\n",
            "\u001b[1;31m                 format.\n",
            "\u001b[1;31m  --json         output paths as machine-readable json\n",
            "\u001b[1;31m  --debug        output debug information about paths\n",
            "\u001b[1;31m\n",
            "\u001b[1;31mAvailable subcommands: kernel kernelspec migrate run troubleshoot\n",
            "\u001b[1;31m\n",
            "\u001b[1;31mJupyter command `jupyter-notebook` not found. \n",
            "\u001b[1;31mView Jupyter <a href='command:jupyter.viewOutput'>log</a> for further details."
          ]
        }
      ],
      "source": [
        "import requests\n",
        "from bs4 import BeautifulSoup"
      ]
    },
    {
      "cell_type": "code",
      "execution_count": 2,
      "metadata": {
        "id": "iHo_QN2vKMTD"
      },
      "outputs": [],
      "source": [
        "def getPage(soup,page,url,query):\n",
        "    output = []\n",
        "    if(page!=1):\n",
        "        url = url+query+str(page)\n",
        "  \n",
        "    results = soup.find_all('div', attrs={'style': 'display: flex;justify-content: space-between'})\n",
        "    \n",
        "    for result in results:\n",
        "        quote = result.text.strip()\n",
        "        output.append(quote)\n",
        "    return output"
      ]
    },
    {
      "cell_type": "code",
      "execution_count": 3,
      "metadata": {
        "id": "yIqx2WCeKOlj"
      },
      "outputs": [],
      "source": [
        "def getQuotes(url,query):\n",
        "    data      = []\n",
        "    page      = requests.get(url)\n",
        "    soup      = BeautifulSoup(page.content, \"html.parser\")\n",
        "    pages     = list(soup.find_all('li', class_={'page-item'}))\n",
        "    num_pages = int(pages[len(pages) - 2].text.strip())\n",
        "    \n",
        "    for page in range(1,num_pages):\n",
        "        items = getPage(soup,page,url,query)\n",
        "        for item in items:\n",
        "            data.append(item)\n",
        "    return data"
      ]
    },
    {
      "cell_type": "code",
      "execution_count": 4,
      "metadata": {
        "id": "Arig7QsLKQ6Z"
      },
      "outputs": [],
      "source": [
        "url    = \"https://www.brainyquote.com/search_results?q=plato\"\n",
        "query  = \"&pg=\"\n",
        "quotes = getQuotes(url,query)"
      ]
    },
    {
      "cell_type": "code",
      "execution_count": 6,
      "metadata": {
        "id": "Qs7960dJKUvn"
      },
      "outputs": [],
      "source": [
        "# quotes"
      ]
    },
    {
      "cell_type": "code",
      "execution_count": 8,
      "metadata": {
        "colab": {
          "base_uri": "https://localhost:8080/"
        },
        "id": "BQmQVIt8KlRJ",
        "outputId": "276b91f8-b79a-430e-e5aa-3aa94af17409"
      },
      "outputs": [
        {
          "name": "stdout",
          "output_type": "stream",
          "text": [
            "Looking in indexes: https://pypi.org/simple, https://us-python.pkg.dev/colab-wheels/public/simple/\n",
            "Collecting redis\n",
            "  Downloading redis-4.5.1-py3-none-any.whl (238 kB)\n",
            "\u001b[2K     \u001b[90m━━━━━━━━━━━━━━━━━━━━━━━━━━━━━━━━━━━━━━━\u001b[0m \u001b[32m238.5/238.5 KB\u001b[0m \u001b[31m6.2 MB/s\u001b[0m eta \u001b[36m0:00:00\u001b[0m\n",
            "\u001b[?25hRequirement already satisfied: async-timeout>=4.0.2 in /usr/local/lib/python3.8/dist-packages (from redis) (4.0.2)\n",
            "Installing collected packages: redis\n",
            "Successfully installed redis-4.5.1\n"
          ]
        }
      ],
      "source": [
        "%pip install redis"
      ]
    },
    {
      "cell_type": "code",
      "execution_count": 9,
      "metadata": {
        "id": "eLGOJWn6KWxv"
      },
      "outputs": [],
      "source": [
        "import redis\n",
        "\n",
        "r = redis.Redis(\n",
        "  host= '',\n",
        "  port= '',\n",
        "  password= ''\n",
        ")\n",
        "\n",
        "\n",
        "for quote in quotes:\n",
        "    r.sadd('plato', quote) "
      ]
    }
  ],
  "metadata": {
    "colab": {
      "provenance": []
    },
    "kernelspec": {
      "display_name": "Python 3",
      "language": "python",
      "name": "python3"
    },
    "language_info": {
      "name": "python",
      "version": "3.10.4"
    },
    "vscode": {
      "interpreter": {
        "hash": "aee8b7b246df8f9039afb4144a1f6fd8d2ca17a180786b69acc140d282b71a49"
      }
    }
  },
  "nbformat": 4,
  "nbformat_minor": 0
}
